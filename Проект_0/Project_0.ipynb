{
 "cells": [
  {
   "cell_type": "code",
   "execution_count": 1,
   "metadata": {},
   "outputs": [
    {
     "name": "stdout",
     "output_type": "stream",
     "text": [
      "Ваш алгоритм угадывает число в среднем за 8 попыток\n"
     ]
    },
    {
     "data": {
      "text/plain": [
       "8"
      ]
     },
     "execution_count": 1,
     "metadata": {},
     "output_type": "execute_result"
    }
   ],
   "source": [
    "import numpy as np             \n",
    "\n",
    "\n",
    "def game_core_v3(number):\n",
    "    '''At first set the beginning and the ending of needed range'''\n",
    "    bottom_range = 1\n",
    "    top_range = 101\n",
    "    count = 1 # set counter\n",
    "    # Finding some random value in range:\n",
    "    predict = np.random.randint(bottom_range,top_range)\n",
    "    \n",
    "    #Searching the number:\n",
    "    while number != predict: \n",
    "        count+=1\n",
    "        \n",
    "        if number > predict: \n",
    "            bottom_range = predict# narrowing the search range\n",
    "            predict = np.random.randint(bottom_range,top_range)\n",
    "        \n",
    "        elif number < predict: \n",
    "            top_range = predict\n",
    "            predict = np.random.randint(bottom_range,top_range)\n",
    "    \n",
    "    return(count) # Quit the loop if quessed      \n",
    "\n",
    "\n",
    "def score_game(game_core):\n",
    "    '''Run the game 1000 times to see how quickly the game guesses the number'''\n",
    "    count_ls = []\n",
    "    np.random.seed(1) # Fixing RANDOM SEED to make your experiment reproducible!\n",
    "    random_array = np.random.randint(1,101, size=(1000))\n",
    "    \n",
    "    for number in random_array:\n",
    "        count_ls.append(game_core(number))\n",
    "    \n",
    "    score = int(np.mean(count_ls))\n",
    "    print(f\"Ваш алгоритм угадывает число в среднем за {score} попыток\")\n",
    "    return(score)\n",
    "\n",
    "\n",
    "score_game(game_core_v3)"
   ]
  },
  {
   "cell_type": "code",
   "execution_count": null,
   "metadata": {},
   "outputs": [],
   "source": []
  }
 ],
 "metadata": {
  "kernelspec": {
   "display_name": "Python 3",
   "language": "python",
   "name": "python3"
  },
  "language_info": {
   "codemirror_mode": {
    "name": "ipython",
    "version": 3
   },
   "file_extension": ".py",
   "mimetype": "text/x-python",
   "name": "python",
   "nbconvert_exporter": "python",
   "pygments_lexer": "ipython3",
   "version": "3.7.4"
  }
 },
 "nbformat": 4,
 "nbformat_minor": 2
}
